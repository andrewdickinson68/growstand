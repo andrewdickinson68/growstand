{
 "cells": [
  {
   "cell_type": "code",
   "execution_count": 49,
   "metadata": {},
   "outputs": [
    {
     "data": {
      "application/vnd.jupyter.widget-view+json": {
       "model_id": "256144d453114ab3ae08e88b7e435997",
       "version_major": 2,
       "version_minor": 0
      },
      "text/plain": [
       "interactive(children=(IntSlider(value=8, description='age', max=15, min=1), IntSlider(value=20, description='b…"
      ]
     },
     "metadata": {},
     "output_type": "display_data"
    }
   ],
   "source": [
    "import numpy as np\n",
    "import matplotlib.pyplot as plt\n",
    "from ipywidgets import interactive\n",
    "%matplotlib inline\n",
    "\n",
    "def plot_func(age, ba, mdh):\n",
    "    b1 = 50\n",
    "    b2 = 1.080275\n",
    "    max_height = 30\n",
    "    c1 = 1.45114\n",
    "    c2 = 0.02141\n",
    "    c3 = 0.38154\n",
    "    ff = 0.36\n",
    "    t1 = age\n",
    "    SI = b1*(1-(1-(mdh/b1)**(1/b2))**(10/t1))**b2/max_height\n",
    "    \n",
    "    fig,ax1 = plt.subplots()\n",
    "  \n",
    "    x = np.linspace(1, 40)\n",
    "    y1 = b1*(1-(1-(mdh/b1)**(1/b2))**(x/t1))**b2\n",
    "    y2 = (ba**(t1/x)**c3)*2.71828**((c1/c3+c2/c3*SI)*(1-(t1/x)**c3))\n",
    "    y3 = y1*y2*ff\n",
    "   # title = round(b1*(1-(1-(mdh/b1)**(1/b2))**(20/t1))**b2,2)\n",
    "   # title = round((ba**(t1/20)**c3)*2.71828**((c1/c3+c2/c3*SI)*(1-(t1/20)**c3)),2)\n",
    "    ax1.plot(x,y1,\"-b\", label=\"MDH\")\n",
    "    ax1.plot(x,y2,\"-r\", label=\"BA\")\n",
    "    #plt.plot(x,y3,\"-g\", label=\"TRV\")\n",
    "    ax1.set_ylim(0, 40)\n",
    "    ax1.set_xlim(1, 20)\n",
    "       #plt.title(title)\n",
    "    ax1.set_ylabel('MDH (m), BA (m2/ha)')\n",
    "    ax1.set_xlabel('Age (years)')\n",
    "    ax1.legend(loc=\"upper left\")\n",
    "    ax2 = ax1.twinx()\n",
    "    ax2.set_ylabel('TRV (m3/ha)')\n",
    "    ax2.set_ylim(0, 400)\n",
    "    ax2.plot(x,y3,\"-g\", label=\"TRV\")\n",
    "    ax2.legend(loc=\"upper right\")\n",
    "    fig.tight_layout()\n",
    "    plt.show()\n",
    "\n",
    "interactive_plot = interactive(plot_func, age=(1,15), ba =(1,40), mdh=(1,30))\n",
    "output = interactive_plot.children[-1]\n",
    "output.layout.height = '300px'\n",
    "interactive_plot\n",
    "\n"
   ]
  },
  {
   "cell_type": "code",
   "execution_count": null,
   "metadata": {},
   "outputs": [],
   "source": []
  }
 ],
 "metadata": {
  "kernelspec": {
   "display_name": "Python 3",
   "language": "python",
   "name": "python3"
  },
  "language_info": {
   "codemirror_mode": {
    "name": "ipython",
    "version": 3
   },
   "file_extension": ".py",
   "mimetype": "text/x-python",
   "name": "python",
   "nbconvert_exporter": "python",
   "pygments_lexer": "ipython3",
   "version": "3.8.3"
  }
 },
 "nbformat": 4,
 "nbformat_minor": 4
}
